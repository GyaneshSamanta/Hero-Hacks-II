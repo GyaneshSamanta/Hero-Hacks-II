{
 "cells": [
  {
   "cell_type": "code",
   "execution_count": 1,
   "id": "dc665546",
   "metadata": {},
   "outputs": [],
   "source": [
    "#Import the Open-CV extra functionalities\n",
    "import cv2"
   ]
  },
  {
   "cell_type": "code",
   "execution_count": 2,
   "id": "89d0a51c",
   "metadata": {},
   "outputs": [],
   "source": [
    "#This is to pull the information about what each object is called\n",
    "classNames = []\n",
    "classFile = \"/home/sourjayon/Object_Detection_Files/coco.names\"\n",
    "with open(classFile,\"rt\") as f:\n",
    "    classNames = f.read().rstrip(\"\\n\").split(\"\\n\")"
   ]
  },
  {
   "cell_type": "code",
   "execution_count": 3,
   "id": "3041b0d7",
   "metadata": {},
   "outputs": [],
   "source": [
    "#This is to pull the information about what each object should look like\n",
    "configPath = \"/home/sourjayon/Object_Detection_Files/ssd_mobilenet_v3_large_coco_2020_01_14.pbtxt\"\n",
    "weightsPath = \"/home/sourjayon/Object_Detection_Files/frozen_inference_graph.pb\""
   ]
  },
  {
   "cell_type": "code",
   "execution_count": 4,
   "id": "815e4ba2",
   "metadata": {},
   "outputs": [
    {
     "data": {
      "text/plain": [
       "<dnn_Model 0x7f00fc6ccab0>"
      ]
     },
     "execution_count": 4,
     "metadata": {},
     "output_type": "execute_result"
    }
   ],
   "source": [
    "#This is some set up values to get good results\n",
    "net = cv2.dnn_DetectionModel(weightsPath,configPath)\n",
    "net.setInputSize(320,320)\n",
    "net.setInputScale(1.0/ 127.5)\n",
    "net.setInputMean((127.5, 127.5, 127.5))\n",
    "net.setInputSwapRB(True)"
   ]
  },
  {
   "cell_type": "code",
   "execution_count": 5,
   "id": "74f14313",
   "metadata": {},
   "outputs": [],
   "source": [
    "#This is to set up what the drawn box size/colour is and the font/size/colour of the name tag and confidence label   \n",
    "def getObjects(img, thres, nms, draw=True, objects=[]):\n",
    "    classIds, confs, bbox = net.detect(img,confThreshold=thres,nmsThreshold=nms)\n",
    "#Below has been commented out, if you want to print each sighting of an object to the console you can uncomment below     \n",
    "#print(classIds,bbox)\n",
    "    if len(objects) == 0: objects = classNames\n",
    "    objectInfo =[]\n",
    "    if len(classIds) != 0:\n",
    "        for classId, confidence,box in zip(classIds.flatten(),confs.flatten(),bbox):\n",
    "            className = classNames[classId - 1]\n",
    "            if className in objects: \n",
    "                objectInfo.append([box,className])\n",
    "                if (draw):\n",
    "                    cv2.rectangle(img,box,color=(0,255,0),thickness=2)\n",
    "                    cv2.putText(img,classNames[classId-1].upper(),(box[0]+10,box[1]+30),\n",
    "                    cv2.FONT_HERSHEY_COMPLEX,1,(0,255,0),2)\n",
    "                    cv2.putText(img,str(round(confidence*100,2)),(box[0]+200,box[1]+30),\n",
    "                    cv2.FONT_HERSHEY_COMPLEX,1,(0,255,0),2)\n",
    "                    \n",
    "    return img,objectInfo"
   ]
  },
  {
   "cell_type": "code",
   "execution_count": 6,
   "id": "19f0ce69",
   "metadata": {},
   "outputs": [
    {
     "ename": "error",
     "evalue": "OpenCV(4.5.5) /io/opencv/modules/imgproc/src/resize.cpp:4052: error: (-215:Assertion failed) !ssize.empty() in function 'resize'\n",
     "output_type": "error",
     "traceback": [
      "\u001b[0;31m---------------------------------------------------------------------------\u001b[0m",
      "\u001b[0;31merror\u001b[0m                                     Traceback (most recent call last)",
      "Input \u001b[0;32mIn [6]\u001b[0m, in \u001b[0;36m<cell line: 2>\u001b[0;34m()\u001b[0m\n\u001b[1;32m     11\u001b[0m         success, img \u001b[38;5;241m=\u001b[39m cap\u001b[38;5;241m.\u001b[39mread()\n\u001b[1;32m     12\u001b[0m \u001b[38;5;66;03m#Below provides a huge amount of controll. the 0.45 number is the threshold number, the 0.2 number is the nms number)\u001b[39;00m\n\u001b[0;32m---> 13\u001b[0m         result, objectInfo \u001b[38;5;241m=\u001b[39m \u001b[43mgetObjects\u001b[49m\u001b[43m(\u001b[49m\u001b[43mimg\u001b[49m\u001b[43m,\u001b[49m\u001b[38;5;241;43m0.45\u001b[39;49m\u001b[43m,\u001b[49m\u001b[38;5;241;43m0.2\u001b[39;49m\u001b[43m,\u001b[49m\u001b[43mobjects\u001b[49m\u001b[38;5;241;43m=\u001b[39;49m\u001b[43m[\u001b[49m\u001b[38;5;124;43m'\u001b[39;49m\u001b[38;5;124;43mdog\u001b[39;49m\u001b[38;5;124;43m'\u001b[39;49m\u001b[43m,\u001b[49m\u001b[38;5;124;43m'\u001b[39;49m\u001b[38;5;124;43mcat\u001b[39;49m\u001b[38;5;124;43m'\u001b[39;49m\u001b[43m]\u001b[49m\u001b[43m)\u001b[49m\n\u001b[1;32m     14\u001b[0m         \u001b[38;5;66;03m#print(objectInfo)\u001b[39;00m\n\u001b[1;32m     15\u001b[0m         cv2\u001b[38;5;241m.\u001b[39mimshow(\u001b[38;5;124m\"\u001b[39m\u001b[38;5;124mOutput\u001b[39m\u001b[38;5;124m\"\u001b[39m,img)\n",
      "Input \u001b[0;32mIn [5]\u001b[0m, in \u001b[0;36mgetObjects\u001b[0;34m(img, thres, nms, draw, objects)\u001b[0m\n\u001b[1;32m      2\u001b[0m \u001b[38;5;28;01mdef\u001b[39;00m \u001b[38;5;21mgetObjects\u001b[39m(img, thres, nms, draw\u001b[38;5;241m=\u001b[39m\u001b[38;5;28;01mTrue\u001b[39;00m, objects\u001b[38;5;241m=\u001b[39m[]):\n\u001b[0;32m----> 3\u001b[0m     classIds, confs, bbox \u001b[38;5;241m=\u001b[39m \u001b[43mnet\u001b[49m\u001b[38;5;241;43m.\u001b[39;49m\u001b[43mdetect\u001b[49m\u001b[43m(\u001b[49m\u001b[43mimg\u001b[49m\u001b[43m,\u001b[49m\u001b[43mconfThreshold\u001b[49m\u001b[38;5;241;43m=\u001b[39;49m\u001b[43mthres\u001b[49m\u001b[43m,\u001b[49m\u001b[43mnmsThreshold\u001b[49m\u001b[38;5;241;43m=\u001b[39;49m\u001b[43mnms\u001b[49m\u001b[43m)\u001b[49m\n\u001b[1;32m      4\u001b[0m \u001b[38;5;66;03m#Below has been commented out, if you want to print each sighting of an object to the console you can uncomment below     \u001b[39;00m\n\u001b[1;32m      5\u001b[0m \u001b[38;5;66;03m#print(classIds,bbox)\u001b[39;00m\n\u001b[1;32m      6\u001b[0m     \u001b[38;5;28;01mif\u001b[39;00m \u001b[38;5;28mlen\u001b[39m(objects) \u001b[38;5;241m==\u001b[39m \u001b[38;5;241m0\u001b[39m: objects \u001b[38;5;241m=\u001b[39m classNames\n",
      "\u001b[0;31merror\u001b[0m: OpenCV(4.5.5) /io/opencv/modules/imgproc/src/resize.cpp:4052: error: (-215:Assertion failed) !ssize.empty() in function 'resize'\n"
     ]
    }
   ],
   "source": [
    "#Below determines the size of the live feed window that will be displayed on the Raspberry Pi OS\n",
    "if __name__ == \"__main__\":\n",
    "\n",
    "    cap = cv2.VideoCapture(-1)\n",
    "    cap.set(3,640)\n",
    "    cap.set(4,480)\n",
    "    #cap.set(10,70)\n",
    "    \n",
    "#Below is the never ending loop that determines what will happen when an object is identified.    \n",
    "    while True:\n",
    "        success, img = cap.read()\n",
    "#Below provides a huge amount of controll. the 0.45 number is the threshold number, the 0.2 number is the nms number)\n",
    "        result, objectInfo = getObjects(img,0.45,0.2,objects=['dog','cat'])\n",
    "        #print(objectInfo)\n",
    "        cv2.imshow(\"Output\",img)\n",
    "        cv2.waitKey(1)"
   ]
  },
  {
   "cell_type": "code",
   "execution_count": null,
   "id": "e7d5f13c",
   "metadata": {},
   "outputs": [],
   "source": []
  },
  {
   "cell_type": "code",
   "execution_count": null,
   "id": "92c137cc",
   "metadata": {},
   "outputs": [],
   "source": []
  }
 ],
 "metadata": {
  "kernelspec": {
   "display_name": "Python 3 (ipykernel)",
   "language": "python",
   "name": "python3"
  },
  "language_info": {
   "codemirror_mode": {
    "name": "ipython",
    "version": 3
   },
   "file_extension": ".py",
   "mimetype": "text/x-python",
   "name": "python",
   "nbconvert_exporter": "python",
   "pygments_lexer": "ipython3",
   "version": "3.9.7"
  }
 },
 "nbformat": 4,
 "nbformat_minor": 5
}
